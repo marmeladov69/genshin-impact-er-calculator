{
 "cells": [
  {
   "cell_type": "markdown",
   "id": "2b7eb9af",
   "metadata": {},
   "source": [
    "## Genshin Impact Energy Recharge% Calculator\n",
    "\n",
    "#### How to use: \n",
    "1. Insert the amount of particles of the SAME ELEMENT the character is going to catch while on field.\n",
    "2. Insert the amount of particles of DIFFERENT ELEMENTS the character is going to catch while on field.\n",
    "3. Insert the amount of particles of the SAME ELEMENT the character is going to catch while off field.\n",
    "4. Insert the amount of particles of DIFFERENT ELEMENTS the character is going to catch while off field.\n",
    "5. Enter the amount of Favonius bearers on the team. (0-4)\n",
    "6. If there is any Fav bearer on the team, insert how many Fav procs the character is going to catch while on field.\n",
    "7. Enter the character's burst cost.\n",
    "8. Insert the amount of flat energy refund per rotation. (Raiden's burst, Prototype Amber passive, XQ C6, etc.)\n",
    "\n",
    "#### Considerations:\n",
    "- Considering R5 Fav weapons, each proccing about 3 times.\n",
    "- Each Fav proc gives 3 clear particles.\n",
    "- Fav is the only source of clear particles.\n",
    "- Considering average particles per second for particle amount.\n",
    "\n",
    "#### Resources:\n",
    "Refer to the following spreadsheet for information on particle generation per character: https://docs.google.com/spreadsheets/d/e/2PACX-1vSCDeEemUfJtimE6M7QmuE4a7u6XiCoqf_dod2lygUYEhtEZakLejiPbHfBYbDB0LW4T_SeuKEUAUk5/pubhtml# "
   ]
  },
  {
   "cell_type": "markdown",
   "id": "7e70bdfc",
   "metadata": {},
   "source": [
    "#### Notes: This is where you can make notes about the character you want to calculate ER% for!\n",
    "\n",
    "Particle Generation:\n",
    "- Zhongli: 0.5 particles/s; Fav\n",
    "- Nahida: 3 particles/s\n",
    "- Yae Miko: 1 particle/s\n",
    "- Tighnari: 3.5 particles/s\n",
    "\n",
    "Tighnari: 6.5 SE + 1.5 DE caught + Fav non caught"
   ]
  },
  {
   "cell_type": "code",
   "execution_count": 59,
   "id": "c444eeb3",
   "metadata": {
    "scrolled": true
   },
   "outputs": [
    {
     "name": "stdout",
     "output_type": "stream",
     "text": [
      "6.5\n",
      "1.5\n",
      "0\n",
      "0\n",
      "1\n",
      "0\n",
      "40\n",
      "0\n"
     ]
    }
   ],
   "source": [
    "# gathering inputs\n",
    "\n",
    "# input 1: on field particles (same element)\n",
    "caught_se = float(input())\n",
    "\n",
    "# input 2: on field particles (different element)\n",
    "caught_de = float(input())\n",
    "\n",
    "# input 3: off field particles (same element)\n",
    "ncaught_se = float(input())\n",
    "\n",
    "# input 4: off field particles (different element)\n",
    "ncaught_de = float(input())\n",
    "\n",
    "# input 5-6: favonius bearers\n",
    "fav_caught = 0 \n",
    "fav_ncaught = 0\n",
    "#initialzing fav particles as 0\n",
    "\n",
    "fav = int(input())\n",
    "\n",
    "if (fav < 0) or (fav > 4):\n",
    "    print(\"You can only have 0-4 Favonius bearers on the team.\")\n",
    "if (fav >= 1): #gathering amount of caught/non caught Fav procs\n",
    "    fav_caught = int(input())\n",
    "    fav_ncaught = fav - fav_caught\n",
    "\n",
    "# input 7:\n",
    "cost = int(input())\n",
    "\n",
    "# input 8:\n",
    "refund = float(input())"
   ]
  },
  {
   "cell_type": "code",
   "execution_count": 60,
   "id": "20ff9377",
   "metadata": {},
   "outputs": [
    {
     "name": "stdout",
     "output_type": "stream",
     "text": [
      "19.5\n"
     ]
    }
   ],
   "source": [
    "#same element\n",
    "energy_same = 3 * caught_se + (1.8 * ncaught_se)\n",
    "\n",
    "print(energy_same)"
   ]
  },
  {
   "cell_type": "code",
   "execution_count": 61,
   "id": "2e7bee1c",
   "metadata": {},
   "outputs": [
    {
     "name": "stdout",
     "output_type": "stream",
     "text": [
      "1.5\n"
     ]
    }
   ],
   "source": [
    "#different element\n",
    "energy_diff = caught_de + (0.6 * ncaught_de)\n",
    "\n",
    "print(energy_diff)"
   ]
  },
  {
   "cell_type": "code",
   "execution_count": 62,
   "id": "d34178ef",
   "metadata": {},
   "outputs": [
    {
     "name": "stdout",
     "output_type": "stream",
     "text": [
      "10.799999999999999\n"
     ]
    }
   ],
   "source": [
    "#clear particles: 3 Fav procs, 3 particles each = 9 particles per Fav proc\n",
    "energy_clear = 2 * (9 * fav_caught) + (1.2 * (9 * fav_ncaught))\n",
    "\n",
    "print(energy_clear)"
   ]
  },
  {
   "cell_type": "code",
   "execution_count": 63,
   "id": "39a3bb40",
   "metadata": {},
   "outputs": [
    {
     "name": "stdout",
     "output_type": "stream",
     "text": [
      "125.79%\n"
     ]
    }
   ],
   "source": [
    "#calculating ER\n",
    "energy_total = energy_same + energy_diff + energy_clear\n",
    "\n",
    "ER = (cost - refund) / energy_total\n",
    "\n",
    "#print(\"{:.2f}\".format(energy_total))\n",
    "print(\"{:.2f}\".format(ER * 100), \"%\", sep=\"\")"
   ]
  }
 ],
 "metadata": {
  "kernelspec": {
   "display_name": "Python 3 (ipykernel)",
   "language": "python",
   "name": "python3"
  },
  "language_info": {
   "codemirror_mode": {
    "name": "ipython",
    "version": 3
   },
   "file_extension": ".py",
   "mimetype": "text/x-python",
   "name": "python",
   "nbconvert_exporter": "python",
   "pygments_lexer": "ipython3",
   "version": "3.9.13"
  }
 },
 "nbformat": 4,
 "nbformat_minor": 5
}
